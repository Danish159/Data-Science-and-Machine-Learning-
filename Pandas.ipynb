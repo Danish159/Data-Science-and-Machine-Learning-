{
 "cells": [
  {
   "cell_type": "code",
   "execution_count": 1,
   "id": "501cd867",
   "metadata": {},
   "outputs": [],
   "source": [
    "#installing pandas"
   ]
  },
  {
   "cell_type": "code",
   "execution_count": 2,
   "id": "b1ca42ec",
   "metadata": {},
   "outputs": [
    {
     "name": "stdout",
     "output_type": "stream",
     "text": [
      "Defaulting to user installation because normal site-packages is not writeable\n",
      "Requirement already satisfied: pandas in e:\\softwares\\anaconda\\installation files\\lib\\site-packages (1.4.2)\n",
      "Requirement already satisfied: pytz>=2020.1 in e:\\softwares\\anaconda\\installation files\\lib\\site-packages (from pandas) (2021.3)\n",
      "Requirement already satisfied: python-dateutil>=2.8.1 in e:\\softwares\\anaconda\\installation files\\lib\\site-packages (from pandas) (2.8.2)\n",
      "Requirement already satisfied: numpy>=1.18.5 in e:\\softwares\\anaconda\\installation files\\lib\\site-packages (from pandas) (1.21.5)\n",
      "Requirement already satisfied: six>=1.5 in e:\\softwares\\anaconda\\installation files\\lib\\site-packages (from python-dateutil>=2.8.1->pandas) (1.16.0)\n"
     ]
    }
   ],
   "source": [
    "!pip install pandas"
   ]
  },
  {
   "cell_type": "code",
   "execution_count": 28,
   "id": "9df97f38",
   "metadata": {},
   "outputs": [],
   "source": [
    "import pandas as pd"
   ]
  },
  {
   "cell_type": "code",
   "execution_count": 29,
   "id": "c8aa34f3",
   "metadata": {},
   "outputs": [],
   "source": [
    "#first check data is clean or have null values??"
   ]
  },
  {
   "cell_type": "code",
   "execution_count": 30,
   "id": "380032d4",
   "metadata": {},
   "outputs": [],
   "source": [
    "\n",
    "# df = pd.read_csv('path')"
   ]
  },
  {
   "cell_type": "markdown",
   "id": "bd926f80",
   "metadata": {},
   "source": [
    "# panda series"
   ]
  },
  {
   "cell_type": "code",
   "execution_count": 31,
   "id": "9079f0ad",
   "metadata": {},
   "outputs": [
    {
     "name": "stdout",
     "output_type": "stream",
     "text": [
      "0    1\n",
      "1    7\n",
      "2    2\n",
      "dtype: int64\n"
     ]
    }
   ],
   "source": [
    "#panda series is like a column in a table\n",
    "\n",
    "a = [1,7,2]\n",
    "myvar = pd.Series(a)\n",
    "print(myvar)"
   ]
  },
  {
   "cell_type": "code",
   "execution_count": 32,
   "id": "a5e1a875",
   "metadata": {},
   "outputs": [
    {
     "name": "stdout",
     "output_type": "stream",
     "text": [
      "day 1    420\n",
      "day 2    380\n",
      "day 3    390\n",
      "dtype: int64\n"
     ]
    }
   ],
   "source": [
    "#key value object as series\n",
    "#here we have a dictionary\n",
    "sample = {'day 1': 420, 'day 2': 380, 'day 3': 390 }\n",
    "myvar = pd.Series(sample)\n",
    "print(myvar)"
   ]
  },
  {
   "cell_type": "markdown",
   "id": "e70bf452",
   "metadata": {},
   "source": [
    "# dataframe\n"
   ]
  },
  {
   "cell_type": "code",
   "execution_count": 33,
   "id": "8f0e6823",
   "metadata": {},
   "outputs": [],
   "source": [
    "# 2 dimensional data structure"
   ]
  },
  {
   "cell_type": "code",
   "execution_count": 34,
   "id": "254ccb48",
   "metadata": {},
   "outputs": [
    {
     "name": "stdout",
     "output_type": "stream",
     "text": [
      "   calories  duration\n",
      "0       420        50\n",
      "1       380        40\n",
      "2       390        45\n"
     ]
    }
   ],
   "source": [
    "data = {\n",
    "    \"calories\":[420,380,390],\n",
    "    \"duration\":[50,40,45]\n",
    "}\n",
    "df = pd.DataFrame(data)\n",
    "print(df)"
   ]
  },
  {
   "cell_type": "code",
   "execution_count": 35,
   "id": "d3bb845f",
   "metadata": {},
   "outputs": [],
   "source": [
    "#how to locate any row"
   ]
  },
  {
   "cell_type": "code",
   "execution_count": 36,
   "id": "3b47f44d",
   "metadata": {},
   "outputs": [
    {
     "name": "stdout",
     "output_type": "stream",
     "text": [
      "calories    420\n",
      "duration     50\n",
      "Name: 0, dtype: int64\n"
     ]
    }
   ],
   "source": [
    "print(df.loc[0])"
   ]
  },
  {
   "cell_type": "code",
   "execution_count": 37,
   "id": "2f7cbc0e",
   "metadata": {},
   "outputs": [],
   "source": [
    "sample_data = {\n",
    "    \"weekdays\":['sunday','monday','tuesday'],\n",
    "    \"test_score\" : [10,20,30]\n",
    "    \n",
    "}\n",
    "\n",
    "df = pd.DataFrame(sample_data)"
   ]
  },
  {
   "cell_type": "code",
   "execution_count": 38,
   "id": "99056a04",
   "metadata": {},
   "outputs": [
    {
     "data": {
      "text/html": [
       "<div>\n",
       "<style scoped>\n",
       "    .dataframe tbody tr th:only-of-type {\n",
       "        vertical-align: middle;\n",
       "    }\n",
       "\n",
       "    .dataframe tbody tr th {\n",
       "        vertical-align: top;\n",
       "    }\n",
       "\n",
       "    .dataframe thead th {\n",
       "        text-align: right;\n",
       "    }\n",
       "</style>\n",
       "<table border=\"1\" class=\"dataframe\">\n",
       "  <thead>\n",
       "    <tr style=\"text-align: right;\">\n",
       "      <th></th>\n",
       "      <th>weekdays</th>\n",
       "      <th>test_score</th>\n",
       "    </tr>\n",
       "  </thead>\n",
       "  <tbody>\n",
       "    <tr>\n",
       "      <th>0</th>\n",
       "      <td>sunday</td>\n",
       "      <td>10</td>\n",
       "    </tr>\n",
       "    <tr>\n",
       "      <th>1</th>\n",
       "      <td>monday</td>\n",
       "      <td>20</td>\n",
       "    </tr>\n",
       "    <tr>\n",
       "      <th>2</th>\n",
       "      <td>tuesday</td>\n",
       "      <td>30</td>\n",
       "    </tr>\n",
       "  </tbody>\n",
       "</table>\n",
       "</div>"
      ],
      "text/plain": [
       "  weekdays  test_score\n",
       "0   sunday          10\n",
       "1   monday          20\n",
       "2  tuesday          30"
      ]
     },
     "execution_count": 38,
     "metadata": {},
     "output_type": "execute_result"
    }
   ],
   "source": [
    "df"
   ]
  },
  {
   "cell_type": "code",
   "execution_count": 39,
   "id": "21662756",
   "metadata": {},
   "outputs": [
    {
     "data": {
      "text/plain": [
       "weekdays      sunday\n",
       "test_score        10\n",
       "Name: 0, dtype: object"
      ]
     },
     "execution_count": 39,
     "metadata": {},
     "output_type": "execute_result"
    }
   ],
   "source": [
    "df.loc[0]"
   ]
  },
  {
   "cell_type": "markdown",
   "id": "92bafe6f",
   "metadata": {},
   "source": [
    "# pandas read csv"
   ]
  },
  {
   "cell_type": "code",
   "execution_count": 48,
   "id": "b3c8dfc6",
   "metadata": {},
   "outputs": [],
   "source": [
    "# comma separated files"
   ]
  },
  {
   "cell_type": "code",
   "execution_count": 49,
   "id": "31995123",
   "metadata": {},
   "outputs": [],
   "source": [
    " # df = pd.read_csv('data.csv')\n",
    "#  print(df)"
   ]
  },
  {
   "cell_type": "code",
   "execution_count": 71,
   "id": "9e91cdef",
   "metadata": {},
   "outputs": [],
   "source": [
    "df = pd.read_csv( 'airtravel.csv')"
   ]
  },
  {
   "cell_type": "code",
   "execution_count": 72,
   "id": "50323d12",
   "metadata": {},
   "outputs": [
    {
     "data": {
      "text/html": [
       "<div>\n",
       "<style scoped>\n",
       "    .dataframe tbody tr th:only-of-type {\n",
       "        vertical-align: middle;\n",
       "    }\n",
       "\n",
       "    .dataframe tbody tr th {\n",
       "        vertical-align: top;\n",
       "    }\n",
       "\n",
       "    .dataframe thead th {\n",
       "        text-align: right;\n",
       "    }\n",
       "</style>\n",
       "<table border=\"1\" class=\"dataframe\">\n",
       "  <thead>\n",
       "    <tr style=\"text-align: right;\">\n",
       "      <th></th>\n",
       "      <th>Month</th>\n",
       "      <th>\"1958\"</th>\n",
       "      <th>\"1959\"</th>\n",
       "      <th>\"1960\"</th>\n",
       "    </tr>\n",
       "  </thead>\n",
       "  <tbody>\n",
       "    <tr>\n",
       "      <th>0</th>\n",
       "      <td>JAN</td>\n",
       "      <td>340</td>\n",
       "      <td>360</td>\n",
       "      <td>417</td>\n",
       "    </tr>\n",
       "    <tr>\n",
       "      <th>1</th>\n",
       "      <td>FEB</td>\n",
       "      <td>318</td>\n",
       "      <td>342</td>\n",
       "      <td>391</td>\n",
       "    </tr>\n",
       "    <tr>\n",
       "      <th>2</th>\n",
       "      <td>MAR</td>\n",
       "      <td>362</td>\n",
       "      <td>406</td>\n",
       "      <td>419</td>\n",
       "    </tr>\n",
       "    <tr>\n",
       "      <th>3</th>\n",
       "      <td>APR</td>\n",
       "      <td>348</td>\n",
       "      <td>396</td>\n",
       "      <td>461</td>\n",
       "    </tr>\n",
       "    <tr>\n",
       "      <th>4</th>\n",
       "      <td>MAY</td>\n",
       "      <td>363</td>\n",
       "      <td>420</td>\n",
       "      <td>472</td>\n",
       "    </tr>\n",
       "    <tr>\n",
       "      <th>5</th>\n",
       "      <td>JUN</td>\n",
       "      <td>435</td>\n",
       "      <td>472</td>\n",
       "      <td>535</td>\n",
       "    </tr>\n",
       "    <tr>\n",
       "      <th>6</th>\n",
       "      <td>JUL</td>\n",
       "      <td>491</td>\n",
       "      <td>548</td>\n",
       "      <td>622</td>\n",
       "    </tr>\n",
       "    <tr>\n",
       "      <th>7</th>\n",
       "      <td>AUG</td>\n",
       "      <td>505</td>\n",
       "      <td>559</td>\n",
       "      <td>606</td>\n",
       "    </tr>\n",
       "    <tr>\n",
       "      <th>8</th>\n",
       "      <td>SEP</td>\n",
       "      <td>404</td>\n",
       "      <td>463</td>\n",
       "      <td>508</td>\n",
       "    </tr>\n",
       "    <tr>\n",
       "      <th>9</th>\n",
       "      <td>OCT</td>\n",
       "      <td>359</td>\n",
       "      <td>407</td>\n",
       "      <td>461</td>\n",
       "    </tr>\n",
       "    <tr>\n",
       "      <th>10</th>\n",
       "      <td>NOV</td>\n",
       "      <td>310</td>\n",
       "      <td>362</td>\n",
       "      <td>390</td>\n",
       "    </tr>\n",
       "    <tr>\n",
       "      <th>11</th>\n",
       "      <td>DEC</td>\n",
       "      <td>337</td>\n",
       "      <td>405</td>\n",
       "      <td>432</td>\n",
       "    </tr>\n",
       "  </tbody>\n",
       "</table>\n",
       "</div>"
      ],
      "text/plain": [
       "   Month   \"1958\"   \"1959\"   \"1960\"\n",
       "0    JAN      340      360      417\n",
       "1    FEB      318      342      391\n",
       "2    MAR      362      406      419\n",
       "3    APR      348      396      461\n",
       "4    MAY      363      420      472\n",
       "5    JUN      435      472      535\n",
       "6    JUL      491      548      622\n",
       "7    AUG      505      559      606\n",
       "8    SEP      404      463      508\n",
       "9    OCT      359      407      461\n",
       "10   NOV      310      362      390\n",
       "11   DEC      337      405      432"
      ]
     },
     "execution_count": 72,
     "metadata": {},
     "output_type": "execute_result"
    }
   ],
   "source": [
    "df"
   ]
  },
  {
   "cell_type": "code",
   "execution_count": 73,
   "id": "89788487",
   "metadata": {},
   "outputs": [],
   "source": [
    "# analyzing data frame"
   ]
  },
  {
   "cell_type": "code",
   "execution_count": 75,
   "id": "73adaed8",
   "metadata": {},
   "outputs": [
    {
     "name": "stdout",
     "output_type": "stream",
     "text": [
      "  Month   \"1958\"   \"1959\"   \"1960\"\n",
      "0   JAN      340      360      417\n",
      "1   FEB      318      342      391\n",
      "2   MAR      362      406      419\n",
      "3   APR      348      396      461\n",
      "4   MAY      363      420      472\n",
      "5   JUN      435      472      535\n",
      "6   JUL      491      548      622\n",
      "7   AUG      505      559      606\n",
      "8   SEP      404      463      508\n",
      "9   OCT      359      407      461\n"
     ]
    }
   ],
   "source": [
    "print(df.head(10)) # to view top 10 rows"
   ]
  },
  {
   "cell_type": "code",
   "execution_count": 76,
   "id": "0ed94dac",
   "metadata": {},
   "outputs": [
    {
     "name": "stdout",
     "output_type": "stream",
     "text": [
      "   Month   \"1958\"   \"1959\"   \"1960\"\n",
      "7    AUG      505      559      606\n",
      "8    SEP      404      463      508\n",
      "9    OCT      359      407      461\n",
      "10   NOV      310      362      390\n",
      "11   DEC      337      405      432\n"
     ]
    }
   ],
   "source": [
    "print(df.tail(5)) #last 5 rows"
   ]
  },
  {
   "cell_type": "code",
   "execution_count": 78,
   "id": "b7abd2d5",
   "metadata": {},
   "outputs": [
    {
     "name": "stdout",
     "output_type": "stream",
     "text": [
      "<class 'pandas.core.frame.DataFrame'>\n",
      "RangeIndex: 12 entries, 0 to 11\n",
      "Data columns (total 4 columns):\n",
      " #   Column   Non-Null Count  Dtype \n",
      "---  ------   --------------  ----- \n",
      " 0   Month    12 non-null     object\n",
      " 1    \"1958\"  12 non-null     int64 \n",
      " 2    \"1959\"  12 non-null     int64 \n",
      " 3    \"1960\"  12 non-null     int64 \n",
      "dtypes: int64(3), object(1)\n",
      "memory usage: 512.0+ bytes\n",
      "None\n"
     ]
    }
   ],
   "source": [
    "print(df.info())"
   ]
  },
  {
   "cell_type": "code",
   "execution_count": 79,
   "id": "9258d856",
   "metadata": {},
   "outputs": [
    {
     "data": {
      "text/html": [
       "<div>\n",
       "<style scoped>\n",
       "    .dataframe tbody tr th:only-of-type {\n",
       "        vertical-align: middle;\n",
       "    }\n",
       "\n",
       "    .dataframe tbody tr th {\n",
       "        vertical-align: top;\n",
       "    }\n",
       "\n",
       "    .dataframe thead th {\n",
       "        text-align: right;\n",
       "    }\n",
       "</style>\n",
       "<table border=\"1\" class=\"dataframe\">\n",
       "  <thead>\n",
       "    <tr style=\"text-align: right;\">\n",
       "      <th></th>\n",
       "      <th>\"1958\"</th>\n",
       "      <th>\"1959\"</th>\n",
       "      <th>\"1960\"</th>\n",
       "    </tr>\n",
       "  </thead>\n",
       "  <tbody>\n",
       "    <tr>\n",
       "      <th>count</th>\n",
       "      <td>12.000000</td>\n",
       "      <td>12.000000</td>\n",
       "      <td>12.000000</td>\n",
       "    </tr>\n",
       "    <tr>\n",
       "      <th>mean</th>\n",
       "      <td>381.000000</td>\n",
       "      <td>428.333333</td>\n",
       "      <td>476.166667</td>\n",
       "    </tr>\n",
       "    <tr>\n",
       "      <th>std</th>\n",
       "      <td>64.530472</td>\n",
       "      <td>69.830097</td>\n",
       "      <td>77.737125</td>\n",
       "    </tr>\n",
       "    <tr>\n",
       "      <th>min</th>\n",
       "      <td>310.000000</td>\n",
       "      <td>342.000000</td>\n",
       "      <td>390.000000</td>\n",
       "    </tr>\n",
       "    <tr>\n",
       "      <th>25%</th>\n",
       "      <td>339.250000</td>\n",
       "      <td>387.500000</td>\n",
       "      <td>418.500000</td>\n",
       "    </tr>\n",
       "    <tr>\n",
       "      <th>50%</th>\n",
       "      <td>360.500000</td>\n",
       "      <td>406.500000</td>\n",
       "      <td>461.000000</td>\n",
       "    </tr>\n",
       "    <tr>\n",
       "      <th>75%</th>\n",
       "      <td>411.750000</td>\n",
       "      <td>465.250000</td>\n",
       "      <td>514.750000</td>\n",
       "    </tr>\n",
       "    <tr>\n",
       "      <th>max</th>\n",
       "      <td>505.000000</td>\n",
       "      <td>559.000000</td>\n",
       "      <td>622.000000</td>\n",
       "    </tr>\n",
       "  </tbody>\n",
       "</table>\n",
       "</div>"
      ],
      "text/plain": [
       "           \"1958\"      \"1959\"      \"1960\"\n",
       "count   12.000000   12.000000   12.000000\n",
       "mean   381.000000  428.333333  476.166667\n",
       "std     64.530472   69.830097   77.737125\n",
       "min    310.000000  342.000000  390.000000\n",
       "25%    339.250000  387.500000  418.500000\n",
       "50%    360.500000  406.500000  461.000000\n",
       "75%    411.750000  465.250000  514.750000\n",
       "max    505.000000  559.000000  622.000000"
      ]
     },
     "execution_count": 79,
     "metadata": {},
     "output_type": "execute_result"
    }
   ],
   "source": [
    "df.describe() #only work on numerical data #we get statstical values"
   ]
  },
  {
   "cell_type": "code",
   "execution_count": 83,
   "id": "050a5f6a",
   "metadata": {},
   "outputs": [],
   "source": [
    "#correlation of data\n",
    "# relation among different column\n",
    "#perfect +ve correlation will have a value of 1\n",
    "#perfect -ve correlation will have a value of -1\n",
    "#not correlated? somewhere around zero"
   ]
  },
  {
   "cell_type": "code",
   "execution_count": 81,
   "id": "cc2f5480",
   "metadata": {},
   "outputs": [
    {
     "data": {
      "text/html": [
       "<div>\n",
       "<style scoped>\n",
       "    .dataframe tbody tr th:only-of-type {\n",
       "        vertical-align: middle;\n",
       "    }\n",
       "\n",
       "    .dataframe tbody tr th {\n",
       "        vertical-align: top;\n",
       "    }\n",
       "\n",
       "    .dataframe thead th {\n",
       "        text-align: right;\n",
       "    }\n",
       "</style>\n",
       "<table border=\"1\" class=\"dataframe\">\n",
       "  <thead>\n",
       "    <tr style=\"text-align: right;\">\n",
       "      <th></th>\n",
       "      <th>\"1958\"</th>\n",
       "      <th>\"1959\"</th>\n",
       "      <th>\"1960\"</th>\n",
       "    </tr>\n",
       "  </thead>\n",
       "  <tbody>\n",
       "    <tr>\n",
       "      <th>\"1958\"</th>\n",
       "      <td>1.000000</td>\n",
       "      <td>0.980656</td>\n",
       "      <td>0.976757</td>\n",
       "    </tr>\n",
       "    <tr>\n",
       "      <th>\"1959\"</th>\n",
       "      <td>0.980656</td>\n",
       "      <td>1.000000</td>\n",
       "      <td>0.977292</td>\n",
       "    </tr>\n",
       "    <tr>\n",
       "      <th>\"1960\"</th>\n",
       "      <td>0.976757</td>\n",
       "      <td>0.977292</td>\n",
       "      <td>1.000000</td>\n",
       "    </tr>\n",
       "  </tbody>\n",
       "</table>\n",
       "</div>"
      ],
      "text/plain": [
       "           \"1958\"    \"1959\"    \"1960\"\n",
       " \"1958\"  1.000000  0.980656  0.976757\n",
       " \"1959\"  0.980656  1.000000  0.977292\n",
       " \"1960\"  0.976757  0.977292  1.000000"
      ]
     },
     "execution_count": 81,
     "metadata": {},
     "output_type": "execute_result"
    }
   ],
   "source": [
    "df.corr()"
   ]
  },
  {
   "cell_type": "markdown",
   "id": "1df26b25",
   "metadata": {},
   "source": []
  },
  {
   "cell_type": "code",
   "execution_count": null,
   "id": "d1c3c7a4",
   "metadata": {},
   "outputs": [],
   "source": []
  }
 ],
 "metadata": {
  "kernelspec": {
   "display_name": "Python 3 (ipykernel)",
   "language": "python",
   "name": "python3"
  },
  "language_info": {
   "codemirror_mode": {
    "name": "ipython",
    "version": 3
   },
   "file_extension": ".py",
   "mimetype": "text/x-python",
   "name": "python",
   "nbconvert_exporter": "python",
   "pygments_lexer": "ipython3",
   "version": "3.9.12"
  }
 },
 "nbformat": 4,
 "nbformat_minor": 5
}
